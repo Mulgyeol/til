{
 "cells": [
  {
   "cell_type": "markdown",
   "metadata": {},
   "source": [
    "# 자료구조란?\n",
    "\n",
    "- 용어: 자료구조, 데이터 구조, data structure\n",
    "- 대량의 데이터를 효율적으로 관리할 수 있는 데이터의 구조를 의미\n",
    "- 코드상에서 효율적으로 데이터를 처리하기 위해, 데이터의 특성에 따라, 체계적으로 데이터를 구조화해야 함\n",
    "    - 어떤 데이터 구조를 사용하느냐에 따라, 코드 효율이 달라짐\n",
    "\n"
   ]
  },
  {
   "cell_type": "markdown",
   "metadata": {},
   "source": [
    "## 효율적으로 데이터를 관리하는 예\n",
    "- 우편번호 : 5자리 우편번호로 국가의 기초구역을 제공\n",
    "    - 5자리 우편변호에서 앞 3자리는 시, 군, 자치구를 표기, 뒤 2자리는 일련번호로 구성\n",
    "- 학생 관리 : 학년, 반, 번호를 학생에게 부여해서, 학생부를 관리\n",
    "    - XX학년, X반, X번 학생\n",
    "    - 만약 위 관리 기법이 없다면, 3000명 학생 중 특정 학생을 찾기 위해, 전체 학생부를 모두 훑어봐야 함"
   ]
  },
  {
   "cell_type": "markdown",
   "metadata": {},
   "source": [
    "## 대표적인 자료구조\n",
    "- 배열, 스택, 큐, 링크드 리스트, 해쉬 테이블, 힙 등\n",
    "\n",
    "> 현실 세계의 가장 대표적인 데이터 구조는? - 사전"
   ]
  },
  {
   "cell_type": "markdown",
   "metadata": {},
   "source": [
    "# 알고리즘이란?\n",
    "- 용어 : 알고리즘, algorithm\n",
    "- 어떤 문제를 풀기 위한 절차/방법\n",
    "- 어떤 문제에 대해, 특정한 '입력'을 넣으면, 원하는 '출력'을 얻을 수 있도록 만드는 프로그래밍\n",
    "\n",
    "> 현실 세계의 가장 대표적인 알고리즘? - 요리 레시피"
   ]
  },
  {
   "cell_type": "markdown",
   "metadata": {},
   "source": [
    "## 자료구조와 알고리즘이 중요한 이유\n",
    "- 어떤 자료구조와 알고리즘을 쓰느냐에 따라, 성능이 천지차\n",
    "\n",
    "> 결국 프로그래밍을 잘 할 수 있는 기술과 역량을 익히고, 검증할 수 있음"
   ]
  },
  {
   "cell_type": "code",
   "execution_count": null,
   "metadata": {},
   "outputs": [],
   "source": []
  }
 ],
 "metadata": {
  "kernelspec": {
   "display_name": "Python 3",
   "language": "python",
   "name": "python3"
  },
  "language_info": {
   "codemirror_mode": {
    "name": "ipython",
    "version": 3
   },
   "file_extension": ".py",
   "mimetype": "text/x-python",
   "name": "python",
   "nbconvert_exporter": "python",
   "pygments_lexer": "ipython3",
   "version": "3.7.4"
  }
 },
 "nbformat": 4,
 "nbformat_minor": 2
}
